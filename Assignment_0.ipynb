{
  "nbformat": 4,
  "nbformat_minor": 0,
  "metadata": {
    "colab": {
      "name": "Assignment-0",
      "provenance": [],
      "include_colab_link": true
    },
    "kernelspec": {
      "name": "python3",
      "display_name": "Python 3"
    },
    "language_info": {
      "name": "python"
    }
  },
  "cells": [
    {
      "cell_type": "markdown",
      "metadata": {
        "id": "view-in-github",
        "colab_type": "text"
      },
      "source": [
        "<a href=\"https://colab.research.google.com/github/FateenAnam/21-VandyHacks-Hackathon/blob/master/Assignment_0.ipynb\" target=\"_parent\"><img src=\"https://colab.research.google.com/assets/colab-badge.svg\" alt=\"Open In Colab\"/></a>"
      ]
    },
    {
      "cell_type": "markdown",
      "source": [
        "In this assignment we are going to work with data that was downloaded using using the [yfinance](https://pypi.org/project/yfinance/) library. It containst daily closing prices of all symbols."
      ],
      "metadata": {
        "id": "XZ8EGoj3LAv2"
      }
    },
    {
      "cell_type": "code",
      "source": [
        "from multiprocessing   import Pool\n",
        "from tqdm import *\n",
        "import pandas as pd"
      ],
      "metadata": {
        "id": "Wh2tTkoMM6sg"
      },
      "execution_count": 1,
      "outputs": []
    },
    {
      "cell_type": "code",
      "source": [
        "#Question 1: Explain what the code below is trying to do. Describe each step.\n",
        "data = pd.read_csv(\"http://www.nasdaqtrader.com/dynamic/SymDir/nasdaqtraded.txt\", sep='|')\n",
        "data_clean = data[data['Test Issue'] == 'N']\n",
        "symbols = set(data_clean['NASDAQ Symbol'].tolist())\n",
        "data = pd.read_csv(\"http://www.nasdaqtrader.com/dynamic/SymDir/otherlisted.txt\", sep='|')\n",
        "data_clean = data[data['Test Issue'] == 'N']\n",
        "symbols = set(data_clean['NASDAQ Symbol'].tolist())\n"
      ],
      "metadata": {
        "id": "5HN0Mhq4LFe2"
      },
      "execution_count": 2,
      "outputs": []
    },
    {
      "cell_type": "code",
      "source": [
        "#Describe your answer below.\n",
        "#Answer 1: \n",
        "# Its using the Pandas library to read two separate files from two urls, then\n",
        "# cleaning the data and manipulates the data in the files\n",
        "  #The first line is creating a pandas dataframe called \"data\" from all the data\n",
        "  #in the url provided. The \"sep='|' parameter indicates that data in each \n",
        "  #column is separated by the '|' character\n",
        "\n",
        "  #The second line creates a new variable called \"data_clean\" that is selecting \n",
        "  #only the rows where the value in the \"Test Issue\" column is equal to 'N'.\n",
        "\n",
        "  #The third line creates a set called \"symbol\" by by converting the \n",
        "  #'NASDAQ Symbol' column to a list\n",
        "\n",
        "  #The entire process is repeated in line 4,5,6 just like the first three lines"
      ],
      "metadata": {
        "id": "MYY6pkbnMUvO"
      },
      "execution_count": null,
      "outputs": []
    },
    {
      "cell_type": "code",
      "source": [
        "!wget  -O stocks.parquet https://www.dropbox.com/s/gzpi950gfdz9dsk/stocks.parquet?dl=1 # lets download the data"
      ],
      "metadata": {
        "id": "5b3j282aZMIO",
        "colab": {
          "base_uri": "https://localhost:8080/"
        },
        "outputId": "fa22c717-0bf9-4218-f56b-c34ab0acb7c1"
      },
      "execution_count": 3,
      "outputs": [
        {
          "output_type": "stream",
          "name": "stdout",
          "text": [
            "--2023-01-30 05:36:41--  https://www.dropbox.com/s/gzpi950gfdz9dsk/stocks.parquet?dl=1\r\n",
            "Resolving www.dropbox.com (www.dropbox.com)... 162.125.6.18, 2620:100:601c:18::a27d:612\r\n",
            "Connecting to www.dropbox.com (www.dropbox.com)|162.125.6.18|:443... connected.\n",
            "HTTP request sent, awaiting response... 302 Found\n",
            "Location: /s/dl/gzpi950gfdz9dsk/stocks.parquet [following]\n",
            "--2023-01-30 05:36:41--  https://www.dropbox.com/s/dl/gzpi950gfdz9dsk/stocks.parquet\n",
            "Reusing existing connection to www.dropbox.com:443.\n",
            "HTTP request sent, awaiting response... 302 Found\n",
            "Location: https://ucf30e043501385d19d2e6f9a9c5.dl.dropboxusercontent.com/cd/0/get/B1jKb37PdW04DZE8dkq7tpVwABkSOZm1VDh4bIFY4Fr-sxpwJOEsYANA3jvFg0AyPlCJ7mbm5ZP9lBVFBPmHASO_ADyR02fkmqHTZDoZ7Ac5Kcdg114wuDMMLmJxrcg7ET3uGtqYJHz88d8LRVFzfYMjDGSok-6FmQ2EoB0o0E3LLw/file?dl=1# [following]\n",
            "--2023-01-30 05:36:41--  https://ucf30e043501385d19d2e6f9a9c5.dl.dropboxusercontent.com/cd/0/get/B1jKb37PdW04DZE8dkq7tpVwABkSOZm1VDh4bIFY4Fr-sxpwJOEsYANA3jvFg0AyPlCJ7mbm5ZP9lBVFBPmHASO_ADyR02fkmqHTZDoZ7Ac5Kcdg114wuDMMLmJxrcg7ET3uGtqYJHz88d8LRVFzfYMjDGSok-6FmQ2EoB0o0E3LLw/file?dl=1\n",
            "Resolving ucf30e043501385d19d2e6f9a9c5.dl.dropboxusercontent.com (ucf30e043501385d19d2e6f9a9c5.dl.dropboxusercontent.com)... 162.125.6.15, 2620:100:601c:15::a27d:60f\n",
            "Connecting to ucf30e043501385d19d2e6f9a9c5.dl.dropboxusercontent.com (ucf30e043501385d19d2e6f9a9c5.dl.dropboxusercontent.com)|162.125.6.15|:443... connected.\n",
            "HTTP request sent, awaiting response... 200 OK\n",
            "Length: 678640589 (647M) [application/binary]\n",
            "Saving to: ‘stocks.parquet’\n",
            "\n",
            "stocks.parquet      100%[===================>] 647.20M   112MB/s    in 5.8s    \n",
            "\n",
            "2023-01-30 05:36:47 (111 MB/s) - ‘stocks.parquet’ saved [678640589/678640589]\n",
            "\n"
          ]
        }
      ]
    },
    {
      "cell_type": "code",
      "source": [
        "!ls stocks.parquet -l #downloaded file"
      ],
      "metadata": {
        "colab": {
          "base_uri": "https://localhost:8080/"
        },
        "id": "jPZoUqKNZhRX",
        "outputId": "6aa6bc2f-ee5d-4152-ae48-96d096d64844"
      },
      "execution_count": 4,
      "outputs": [
        {
          "output_type": "stream",
          "name": "stdout",
          "text": [
            "-rw-rw-r-- 1 ubuntu ubuntu 678640589 Jan 30 05:36 stocks.parquet\r\n"
          ]
        }
      ]
    },
    {
      "cell_type": "code",
      "source": [
        "#Bonus question 1 - find on internet and write the command that will download the all data from the symbols list. "
      ],
      "metadata": {
        "id": "m9ZaZDOgNxhF"
      },
      "execution_count": 5,
      "outputs": []
    },
    {
      "cell_type": "code",
      "source": [
        "data=pd.read_parquet('stocks.parquet')"
      ],
      "metadata": {
        "id": "AldxdSqFZ1mC"
      },
      "execution_count": 6,
      "outputs": []
    },
    {
      "cell_type": "code",
      "source": [
        "data.head(1) # Below shows a sample of the data.\n",
        "#date - describes the day of the price\n",
        "#open - the price at which stock opened\n",
        "#high - what was the intraday high\n",
        "#low - what is the intraday low\n",
        "#close - what was the closing price\n",
        "#adj_close - the price calculated after adjusting for all future stock splits\n",
        "#dividends - what are the dividends that were paid on the day.\n",
        "#stock_splits - if the stock was split\n",
        "#symbol the symbol of the stock\n"
      ],
      "metadata": {
        "colab": {
          "base_uri": "https://localhost:8080/",
          "height": 81
        },
        "id": "JLriTcuObF3k",
        "outputId": "5c94318c-06ef-4505-c1e3-4df5c6a96e9a"
      },
      "execution_count": 7,
      "outputs": [
        {
          "output_type": "execute_result",
          "data": {
            "text/plain": [
              "         date      open      high       low     close  adj_close     volume  \\\n",
              "0  1962-01-02  0.131273  0.131273  0.124177  0.124177   0.045278  2480333.0   \n",
              "\n",
              "   dividends stock_splits symbol  day  year  month dayofweek  \n",
              "0        0.0          0.0    HPQ    2  1962      1   Tuesday  "
            ],
            "text/html": [
              "<div>\n",
              "<style scoped>\n",
              "    .dataframe tbody tr th:only-of-type {\n",
              "        vertical-align: middle;\n",
              "    }\n",
              "\n",
              "    .dataframe tbody tr th {\n",
              "        vertical-align: top;\n",
              "    }\n",
              "\n",
              "    .dataframe thead th {\n",
              "        text-align: right;\n",
              "    }\n",
              "</style>\n",
              "<table border=\"1\" class=\"dataframe\">\n",
              "  <thead>\n",
              "    <tr style=\"text-align: right;\">\n",
              "      <th></th>\n",
              "      <th>date</th>\n",
              "      <th>open</th>\n",
              "      <th>high</th>\n",
              "      <th>low</th>\n",
              "      <th>close</th>\n",
              "      <th>adj_close</th>\n",
              "      <th>volume</th>\n",
              "      <th>dividends</th>\n",
              "      <th>stock_splits</th>\n",
              "      <th>symbol</th>\n",
              "      <th>day</th>\n",
              "      <th>year</th>\n",
              "      <th>month</th>\n",
              "      <th>dayofweek</th>\n",
              "    </tr>\n",
              "  </thead>\n",
              "  <tbody>\n",
              "    <tr>\n",
              "      <th>0</th>\n",
              "      <td>1962-01-02</td>\n",
              "      <td>0.131273</td>\n",
              "      <td>0.131273</td>\n",
              "      <td>0.124177</td>\n",
              "      <td>0.124177</td>\n",
              "      <td>0.045278</td>\n",
              "      <td>2480333.0</td>\n",
              "      <td>0.0</td>\n",
              "      <td>0.0</td>\n",
              "      <td>HPQ</td>\n",
              "      <td>2</td>\n",
              "      <td>1962</td>\n",
              "      <td>1</td>\n",
              "      <td>Tuesday</td>\n",
              "    </tr>\n",
              "  </tbody>\n",
              "</table>\n",
              "</div>"
            ]
          },
          "metadata": {},
          "execution_count": 7
        }
      ]
    },
    {
      "cell_type": "code",
      "source": [
        "# Question 2 find top 20 best performer stocks - i.e. the stocks that provided the best return.\n",
        "# if the stocks adj_close on the earliest date was X and the adj_close on the 2021-01-01 is y and the number of days elapsed between these dates is Z.\n",
        "# Then return = Y/X/Z\n",
        "# Sort the stocks by this return and find the top 20"
      ],
      "metadata": {
        "id": "c3vJMi_8bAwC"
      },
      "execution_count": 8,
      "outputs": []
    },
    {
      "cell_type": "code",
      "source": [
        "import pandas as pd\n",
        "import datetime as dt\n",
        "\n",
        "\n",
        "# convert the date column to datetime objects\n",
        "data[\"date\"] = pd.to_datetime(data[\"date\"])\n",
        "\n",
        "# group the data by symbol\n",
        "grouped = data.groupby(\"symbol\")\n",
        "\n",
        "results = {}\n",
        "\n",
        "for symbol, group in grouped:\n",
        "  stock=grouped.get_group(symbol)\n",
        "\n",
        "  first_close=stock[\"adj_close\"].head(1).values\n",
        "  last_close=stock[\"adj_close\"].tail(1).values\n",
        "\n",
        "  first_date=stock[\"date\"].head(1)\n",
        "  last_date=stock[\"date\"].tail(1)\n",
        "\n",
        "  Z=(last_date-first_date).dt.days\n",
        "  Y=last_close\n",
        "  X=first_close\n",
        "\n",
        "  gain=Y/X/Z\n",
        "  results[symbol]=gain\n",
        "\n",
        "import heapq \n",
        "heapq.nlargest(20,results.values()) "
      ],
      "metadata": {
        "id": "qCrnpA7PLf8v"
      },
      "execution_count": null,
      "outputs": []
    },
    {
      "cell_type": "code",
      "source": [
        "#Question 3: Create a copy of this notebook called assignment-aws and follow the instructions in readme to run the notebook on AWS compute instance.\n",
        "# Compare performance of running natively on colab and colab+AWS\n",
        "\n",
        "#The biggest problem of running natively on colab was running out of ram very \n",
        "#frequently. I ran out of ram so many time that I couldn't even finish properly\n",
        "#when I started working with the native colab at first. The native colab has 12GB\n",
        "#which is not enough for doing this assignment in peace. Colab+AWS has higher RAM\n",
        "#and instances with more RAM can be purchased at pay-as-you-go model which is better.\n",
        "#But Colab natively runs faster than AWS+Colab. "
      ],
      "metadata": {
        "id": "c1jLuH32dDhR"
      },
      "execution_count": null,
      "outputs": []
    }
  ]
}